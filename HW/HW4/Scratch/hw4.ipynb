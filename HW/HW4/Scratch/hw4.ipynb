{
 "cells": [
  {
   "cell_type": "markdown",
   "metadata": {},
   "source": [
    "## Problem 3\n",
    "Consider the following sequence of page references (each element represents a page number in a virtual memory system):\n",
    "1 2 3 4 5 2 1 3 3 2 3 4 5 4 5 1 2 3 5"
   ]
  },
  {
   "cell_type": "code",
   "execution_count": 3,
   "metadata": {},
   "outputs": [],
   "source": [
    "def fifo_page_replacement(pages, frame_size):\n",
    "    \"\"\"\n",
    "    Simulate FIFO page replacement policy and count page faults.\n",
    "\n",
    "    :param pages: List of integers representing page references.\n",
    "    :param frame_size: Integer representing the number of pages the frame can hold.\n",
    "    :return: Integer, the number of page faults.\n",
    "    \"\"\"\n",
    "    frame = []  # The memory frame, represented as a list.\n",
    "    page_faults = 0  # Count of page faults.\n",
    "    queue = []  # Queue to keep track of the order of pages for FIFO.\n",
    "\n",
    "    for page in pages:\n",
    "        if page not in frame:\n",
    "            if len(frame) >= frame_size:\n",
    "                # Remove the oldest page from the frame.\n",
    "                frame.remove(queue.pop(0))\n",
    "            # Add new page both to the frame and the FIFO queue.\n",
    "            frame.append(page)\n",
    "            queue.append(page)\n",
    "            page_faults += 1\n",
    "\n",
    "    return page_faults"
   ]
  },
  {
   "cell_type": "code",
   "execution_count": 4,
   "metadata": {},
   "outputs": [
    {
     "name": "stdout",
     "output_type": "stream",
     "text": [
      "14\n"
     ]
    }
   ],
   "source": [
    "pages = [1, 2, 3, 4, 5, 2, 1, 3, 3, 2, 3, 4, 5, 4, 5, 1, 2, 3, 5]\n",
    "frame_size = 3\n",
    "print(fifo_page_replacement(pages, frame_size)) "
   ]
  },
  {
   "cell_type": "code",
   "execution_count": 5,
   "metadata": {},
   "outputs": [
    {
     "name": "stdout",
     "output_type": "stream",
     "text": [
      "6\n"
     ]
    }
   ],
   "source": [
    "pages1 = [1, 2, 3, 4, 5, 6]\n",
    "frame_size1 = 3\n",
    "print(fifo_page_replacement(pages1, frame_size1))"
   ]
  }
 ],
 "metadata": {
  "kernelspec": {
   "display_name": "Python 3",
   "language": "python",
   "name": "python3"
  },
  "language_info": {
   "codemirror_mode": {
    "name": "ipython",
    "version": 3
   },
   "file_extension": ".py",
   "mimetype": "text/x-python",
   "name": "python",
   "nbconvert_exporter": "python",
   "pygments_lexer": "ipython3",
   "version": "3.12.2"
  }
 },
 "nbformat": 4,
 "nbformat_minor": 2
}
