{
 "cells": [
  {
   "cell_type": "markdown",
   "metadata": {},
   "source": [
    "## Flash Cards"
   ]
  },
  {
   "cell_type": "code",
   "execution_count": 7,
   "metadata": {},
   "outputs": [],
   "source": [
    "import random\n",
    "\n",
    "def run_flashcard_program(flashcards):\n",
    "    for term, info in flashcards.items():\n",
    "        print(f\"Term: {term}\")\n",
    "\n",
    "        # Correct answer is always included\n",
    "        correct_answer = info[\"answer\"]\n",
    "        # Randomly select 3 incorrect answers from the pool\n",
    "        incorrect_answers = random.sample(info[\"incorrect_choices\"], 3)\n",
    "\n",
    "        # Combine correct answer with the incorrect answers\n",
    "        choices = incorrect_answers + [correct_answer]\n",
    "        random.shuffle(choices)  # Shuffle the list to mix up the order of answers\n",
    "\n",
    "        for i, choice in enumerate(choices, start=1):\n",
    "            print(f\"{i}. {choice}\")\n",
    "\n",
    "        user_input = int(input(\"Enter your choice (1-4): \"))\n",
    "        if choices[user_input - 1] == correct_answer:\n",
    "            print(\"Correct!\")\n",
    "        else:\n",
    "            print(\"Incorrect! The correct answer was:\", correct_answer)\n",
    "        print()  # Blank line for better readability\n"
   ]
  },
  {
   "cell_type": "code",
   "execution_count": 8,
   "metadata": {},
   "outputs": [
    {
     "name": "stdout",
     "output_type": "stream",
     "text": [
      "Term: Python\n",
      "1. Car\n",
      "2. Programming Language\n",
      "3. Snake\n",
      "4. Game\n",
      "Correct!\n",
      "\n",
      "Term: Eiffel Tower\n",
      "1. Song\n",
      "2. Painter\n",
      "3. Monument\n",
      "4. Movie\n"
     ]
    },
    {
     "ename": "ValueError",
     "evalue": "invalid literal for int() with base 10: ''",
     "output_type": "error",
     "traceback": [
      "\u001b[1;31m---------------------------------------------------------------------------\u001b[0m",
      "\u001b[1;31mValueError\u001b[0m                                Traceback (most recent call last)",
      "Cell \u001b[1;32mIn[8], line 8\u001b[0m\n\u001b[0;32m      1\u001b[0m \u001b[38;5;66;03m# Example flashcards dictionary\u001b[39;00m\n\u001b[0;32m      2\u001b[0m flashcards \u001b[38;5;241m=\u001b[39m {\n\u001b[0;32m      3\u001b[0m     \u001b[38;5;124m\"\u001b[39m\u001b[38;5;124mPython\u001b[39m\u001b[38;5;124m\"\u001b[39m: {\u001b[38;5;124m\"\u001b[39m\u001b[38;5;124mchoices\u001b[39m\u001b[38;5;124m\"\u001b[39m: [\u001b[38;5;124m\"\u001b[39m\u001b[38;5;124mProgramming Language\u001b[39m\u001b[38;5;124m\"\u001b[39m, \u001b[38;5;124m\"\u001b[39m\u001b[38;5;124mSnake\u001b[39m\u001b[38;5;124m\"\u001b[39m, \u001b[38;5;124m\"\u001b[39m\u001b[38;5;124mGame\u001b[39m\u001b[38;5;124m\"\u001b[39m, \u001b[38;5;124m\"\u001b[39m\u001b[38;5;124mCar\u001b[39m\u001b[38;5;124m\"\u001b[39m], \u001b[38;5;124m\"\u001b[39m\u001b[38;5;124manswer\u001b[39m\u001b[38;5;124m\"\u001b[39m: \u001b[38;5;124m\"\u001b[39m\u001b[38;5;124mProgramming Language\u001b[39m\u001b[38;5;124m\"\u001b[39m},\n\u001b[0;32m      4\u001b[0m     \u001b[38;5;124m\"\u001b[39m\u001b[38;5;124mEiffel Tower\u001b[39m\u001b[38;5;124m\"\u001b[39m: {\u001b[38;5;124m\"\u001b[39m\u001b[38;5;124mchoices\u001b[39m\u001b[38;5;124m\"\u001b[39m: [\u001b[38;5;124m\"\u001b[39m\u001b[38;5;124mMonument\u001b[39m\u001b[38;5;124m\"\u001b[39m, \u001b[38;5;124m\"\u001b[39m\u001b[38;5;124mPainter\u001b[39m\u001b[38;5;124m\"\u001b[39m, \u001b[38;5;124m\"\u001b[39m\u001b[38;5;124mMovie\u001b[39m\u001b[38;5;124m\"\u001b[39m, \u001b[38;5;124m\"\u001b[39m\u001b[38;5;124mSong\u001b[39m\u001b[38;5;124m\"\u001b[39m], \u001b[38;5;124m\"\u001b[39m\u001b[38;5;124manswer\u001b[39m\u001b[38;5;124m\"\u001b[39m: \u001b[38;5;124m\"\u001b[39m\u001b[38;5;124mMonument\u001b[39m\u001b[38;5;124m\"\u001b[39m},\n\u001b[0;32m      5\u001b[0m     \u001b[38;5;124m\"\u001b[39m\u001b[38;5;124mTesla\u001b[39m\u001b[38;5;124m\"\u001b[39m: {\u001b[38;5;124m\"\u001b[39m\u001b[38;5;124mchoices\u001b[39m\u001b[38;5;124m\"\u001b[39m: [\u001b[38;5;124m\"\u001b[39m\u001b[38;5;124mFruit\u001b[39m\u001b[38;5;124m\"\u001b[39m, \u001b[38;5;124m\"\u001b[39m\u001b[38;5;124mInventor\u001b[39m\u001b[38;5;124m\"\u001b[39m, \u001b[38;5;124m\"\u001b[39m\u001b[38;5;124mCar Brand\u001b[39m\u001b[38;5;124m\"\u001b[39m, \u001b[38;5;124m\"\u001b[39m\u001b[38;5;124mElement\u001b[39m\u001b[38;5;124m\"\u001b[39m], \u001b[38;5;124m\"\u001b[39m\u001b[38;5;124manswer\u001b[39m\u001b[38;5;124m\"\u001b[39m: \u001b[38;5;124m\"\u001b[39m\u001b[38;5;124mCar Brand\u001b[39m\u001b[38;5;124m\"\u001b[39m}\n\u001b[0;32m      6\u001b[0m }\n\u001b[1;32m----> 8\u001b[0m \u001b[43mrun_flashcard_program\u001b[49m\u001b[43m(\u001b[49m\u001b[43mflashcards\u001b[49m\u001b[43m)\u001b[49m\n",
      "Cell \u001b[1;32mIn[7], line 13\u001b[0m, in \u001b[0;36mrun_flashcard_program\u001b[1;34m(flashcards)\u001b[0m\n\u001b[0;32m     10\u001b[0m \u001b[38;5;28;01mfor\u001b[39;00m i, choice \u001b[38;5;129;01min\u001b[39;00m \u001b[38;5;28menumerate\u001b[39m(choices, start\u001b[38;5;241m=\u001b[39m\u001b[38;5;241m1\u001b[39m):\n\u001b[0;32m     11\u001b[0m     \u001b[38;5;28mprint\u001b[39m(\u001b[38;5;124mf\u001b[39m\u001b[38;5;124m\"\u001b[39m\u001b[38;5;132;01m{\u001b[39;00mi\u001b[38;5;132;01m}\u001b[39;00m\u001b[38;5;124m. \u001b[39m\u001b[38;5;132;01m{\u001b[39;00mchoice\u001b[38;5;132;01m}\u001b[39;00m\u001b[38;5;124m\"\u001b[39m)\n\u001b[1;32m---> 13\u001b[0m user_input \u001b[38;5;241m=\u001b[39m \u001b[38;5;28;43mint\u001b[39;49m\u001b[43m(\u001b[49m\u001b[38;5;28;43minput\u001b[39;49m\u001b[43m(\u001b[49m\u001b[38;5;124;43m\"\u001b[39;49m\u001b[38;5;124;43mEnter your choice (1-4): \u001b[39;49m\u001b[38;5;124;43m\"\u001b[39;49m\u001b[43m)\u001b[49m\u001b[43m)\u001b[49m\n\u001b[0;32m     14\u001b[0m \u001b[38;5;66;03m# Check if the user's choice is correct\u001b[39;00m\n\u001b[0;32m     15\u001b[0m \u001b[38;5;28;01mif\u001b[39;00m choices[user_input \u001b[38;5;241m-\u001b[39m \u001b[38;5;241m1\u001b[39m] \u001b[38;5;241m==\u001b[39m info[\u001b[38;5;124m\"\u001b[39m\u001b[38;5;124manswer\u001b[39m\u001b[38;5;124m\"\u001b[39m]:\n",
      "\u001b[1;31mValueError\u001b[0m: invalid literal for int() with base 10: ''"
     ]
    }
   ],
   "source": [
    "# Example flashcards dictionary with a pool of incorrect choices\n",
    "flashcards = {\n",
    "    \"Python\": {\n",
    "        \"answer\": \"Programming Language\",\n",
    "        \"incorrect_choices\": [\"Snake\", \"Game\", \"Car\", \"Movie\", \"Tool\"]\n",
    "    },\n",
    "    \"Eiffel Tower\": {\n",
    "        \"answer\": \"Monument\",\n",
    "        \"incorrect_choices\": [\"Painter\", \"Movie\", \"Song\", \"City\", \"Country\"]\n",
    "    },\n",
    "    \"Tesla\": {\n",
    "        \"answer\": \"Car Brand\",\n",
    "        \"incorrect_choices\": [\"Fruit\", \"Inventor\", \"Element\", \"Planet\", \"Computer\"]\n",
    "    }\n",
    "}\n",
    "\n",
    "run_flashcard_program(flashcards)"
   ]
  },
  {
   "cell_type": "markdown",
   "metadata": {},
   "source": [
    "# REAL TIME SCHEDULERS\n",
    "\n",
    "## RMS (Rate Monotonic Scheduling)"
   ]
  },
  {
   "cell_type": "code",
   "execution_count": null,
   "metadata": {},
   "outputs": [],
   "source": [
    "class Process:\n",
    "    def __init__(self, pid, execution_time, period):\n",
    "        self.pid = pid\n",
    "        self.execution_time = execution_time\n",
    "        self.period = period\n",
    "        self.remaining_time = execution_time\n",
    "        self.next_start_time = 0"
   ]
  },
  {
   "cell_type": "code",
   "execution_count": null,
   "metadata": {},
   "outputs": [],
   "source": [
    "def rms_scheduler(processes, total_time):\n",
    "    # Sort processes based on period (shortest period first)\n",
    "    processes.sort(key=lambda x: x.period)\n",
    "    \n",
    "    # Simulation of the scheduler\n",
    "    current_time = 0\n",
    "    while current_time < total_time:\n",
    "        # Check for process that is ready to run\n",
    "        ready_processes = [p for p in processes if p.next_start_time <= current_time and p.remaining_time > 0]\n",
    "        if ready_processes:\n",
    "            # Select the highest priority process\n",
    "            running_process = ready_processes[0]\n",
    "            # Run the process for 1 unit of time\n",
    "            running_process.remaining_time -= 1\n",
    "            print(f\"Time {current_time}: Process {running_process.pid} is running.\")\n",
    "            \n",
    "            # Check if the process finishes its execution\n",
    "            if running_process.remaining_time == 0:\n",
    "                print(f\"Time {current_time + 1}: Process {running_process.pid} finished execution.\")\n",
    "                running_process.next_start_time += running_process.period\n",
    "                running_process.remaining_time = running_process.execution_time\n",
    "        else:\n",
    "            print(f\"Time {current_time}: No process is running.\")\n",
    "        \n",
    "        current_time += 1\n",
    "        "
   ]
  },
  {
   "cell_type": "code",
   "execution_count": null,
   "metadata": {},
   "outputs": [
    {
     "name": "stdout",
     "output_type": "stream",
     "text": [
      "Time 0: Process 2 is running.\n",
      "Time 1: Process 2 finished execution.\n",
      "Time 1: Process 1 is running.\n",
      "Time 2: Process 1 is running.\n",
      "Time 3: Process 1 finished execution.\n",
      "Time 3: Process 2 is running.\n",
      "Time 4: Process 2 finished execution.\n",
      "Time 4: Process 3 is running.\n",
      "Time 5: Process 3 finished execution.\n"
     ]
    }
   ],
   "source": [
    "# Example processes\n",
    "processes = [\n",
    "    Process(1, 2, 5),\n",
    "    Process(2, 1, 3),\n",
    "    Process(3, 1, 7)\n",
    "]\n",
    "\n",
    "# Run the scheduler for 20 time units\n",
    "rms_scheduler(processes, 5)"
   ]
  }
 ],
 "metadata": {
  "kernelspec": {
   "display_name": "Python 3",
   "language": "python",
   "name": "python3"
  },
  "language_info": {
   "codemirror_mode": {
    "name": "ipython",
    "version": 3
   },
   "file_extension": ".py",
   "mimetype": "text/x-python",
   "name": "python",
   "nbconvert_exporter": "python",
   "pygments_lexer": "ipython3",
   "version": "3.12.2"
  }
 },
 "nbformat": 4,
 "nbformat_minor": 2
}
